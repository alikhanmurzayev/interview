{
 "cells": [
  {
   "cell_type": "code",
   "execution_count": 2,
   "metadata": {},
   "outputs": [],
   "source": [
    "import pandas as pd\n",
    "import numpy as np\n",
    "\n",
    "from matplotlib import pyplot as plt\n",
    "import seaborn as sns\n",
    "%matplotlib inline"
   ]
  },
  {
   "cell_type": "code",
   "execution_count": 217,
   "metadata": {},
   "outputs": [],
   "source": [
    "from datetime import datetime, timedelta"
   ]
  },
  {
   "cell_type": "code",
   "execution_count": 227,
   "metadata": {},
   "outputs": [
    {
     "name": "stdout",
     "output_type": "stream",
     "text": [
      "2019-09-01 08:00:00\n"
     ]
    }
   ],
   "source": [
    "class CinemaDataset():\n",
    "    def __init__(self, num_sessions=3, num_places=50, seed=0):\n",
    "        np.random.seed(seed)\n",
    "        self.num_places = num_places\n",
    "        \n",
    "        # time of openning and closing of cinema\n",
    "        self.start_hour = 8\n",
    "        self.end_hour = 23\n",
    "        # interval between films\n",
    "        self.interval = timedelta(minutes=30)\n",
    "        \n",
    "        # emulation start time\n",
    "        self.start_time = datetime(year=2019, month=9, day=1, hour=self.start_hour)\n",
    "        print(self.start_time)    \n",
    "\n",
    "data_generator = CinemaDataset(num_sessions=1, num_places=10, seed=1)"
   ]
  },
  {
   "cell_type": "raw",
   "metadata": {},
   "source": [
    "def generate(self):\n",
    "    pass\n",
    "\n",
    "def get_ages(self):\n",
    "    return np.random.normal(30, 7, self.num_rows).astype(int).reshape(-1, 1)\n",
    "\n",
    "def get_sexes(self):\n",
    "    sex_bin = np.random.binomial(1, 0.5, size=self.num_rows).reshape(-1, 1)\n",
    "    return np.apply_along_axis(lambda x: 'male' if x else 'female', 1, sex_bin)\n",
    "\n",
    "def get_places(self):\n",
    "    return np.random.uniform(0, self.num_places, self.num_rows).astype(int).reshape(-1, 1)\n"
   ]
  }
 ],
 "metadata": {
  "kernelspec": {
   "display_name": "Python 3",
   "language": "python",
   "name": "python3"
  },
  "language_info": {
   "codemirror_mode": {
    "name": "ipython",
    "version": 3
   },
   "file_extension": ".py",
   "mimetype": "text/x-python",
   "name": "python",
   "nbconvert_exporter": "python",
   "pygments_lexer": "ipython3",
   "version": "3.7.3"
  }
 },
 "nbformat": 4,
 "nbformat_minor": 2
}
